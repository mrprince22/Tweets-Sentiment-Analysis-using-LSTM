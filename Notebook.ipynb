{
 "cells": [
  {
   "cell_type": "code",
   "execution_count": 39,
   "id": "090eb0a1",
   "metadata": {},
   "outputs": [],
   "source": [
    "import pandas as pd\n",
    "import numpy as np\n",
    "import matplotlib.pyplot as plt\n",
    "import seaborn as sns\n",
    "import random\n",
    "pd.set_option('display.max_colwidth', None)\n",
    "from keras.preprocessing.text import Tokenizer\n",
    "from keras.preprocessing.sequence import pad_sequences\n",
    "from keras.models import Sequential\n",
    "from keras.layers import Dense, Embedding, LSTM, SpatialDropout1D\n",
    "from sklearn.model_selection import train_test_split\n",
    "from keras.utils.np_utils import to_categorical\n",
    "from keras.models import load_model\n",
    "import re\n",
    "from IPython.display import clear_output\n",
    "import pickle"
   ]
  },
  {
   "cell_type": "code",
   "execution_count": 11,
   "id": "a63294ab",
   "metadata": {},
   "outputs": [],
   "source": [
    "class color:\n",
    "   PURPLE = '\\033[95m'\n",
    "   CYAN = '\\033[96m'\n",
    "   DARKCYAN = '\\033[36m'\n",
    "   BLUE = '\\033[94m'\n",
    "   GREEN = '\\033[92m'\n",
    "   YELLOW = '\\033[93m'\n",
    "   RED = '\\033[91m'\n",
    "   BOLD = '\\033[1m'\n",
    "   UNDERLINE = '\\033[4m'\n",
    "   END = '\\033[0m'\n"
   ]
  },
  {
   "cell_type": "code",
   "execution_count": 12,
   "id": "1f5fb21f",
   "metadata": {
    "scrolled": true
   },
   "outputs": [
    {
     "name": "stdout",
     "output_type": "stream",
     "text": [
      "   id               candidate  candidate_confidence relevant_yn  \\\n",
      "0   1  No candidate mentioned                   1.0         yes   \n",
      "1   2            Scott Walker                   1.0         yes   \n",
      "2   3  No candidate mentioned                   1.0         yes   \n",
      "3   4  No candidate mentioned                   1.0         yes   \n",
      "4   5            Donald Trump                   1.0         yes   \n",
      "\n",
      "   relevant_yn_confidence sentiment  sentiment_confidence     subject_matter  \\\n",
      "0                     1.0   Neutral                0.6578  None of the above   \n",
      "1                     1.0  Positive                0.6333  None of the above   \n",
      "2                     1.0   Neutral                0.6629  None of the above   \n",
      "3                     1.0  Positive                1.0000  None of the above   \n",
      "4                     1.0  Positive                0.7045  None of the above   \n",
      "\n",
      "   subject_matter_confidence candidate_gold  ... relevant_yn_gold  \\\n",
      "0                     1.0000            NaN  ...              NaN   \n",
      "1                     1.0000            NaN  ...              NaN   \n",
      "2                     0.6629            NaN  ...              NaN   \n",
      "3                     0.7039            NaN  ...              NaN   \n",
      "4                     1.0000            NaN  ...              NaN   \n",
      "\n",
      "  retweet_count  sentiment_gold subject_matter_gold  \\\n",
      "0             5             NaN                 NaN   \n",
      "1            26             NaN                 NaN   \n",
      "2            27             NaN                 NaN   \n",
      "3           138             NaN                 NaN   \n",
      "4           156             NaN                 NaN   \n",
      "\n",
      "                                                                                                                                           text  \\\n",
      "0                                    RT @NancyLeeGrahn: How did everyone feel about the Climate Change question last night? Exactly. #GOPDebate   \n",
      "1  RT @ScottWalker: Didn't catch the full #GOPdebate last night. Here are some of Scott's best lines in 90 seconds. #Walker16 http://t.co/ZSfF…   \n",
      "2                                                          RT @TJMShow: No mention of Tamir Rice and the #GOPDebate was held in Cleveland? Wow.   \n",
      "3  RT @RobGeorge: That Carly Fiorina is trending -- hours after HER debate -- above any of the men in just-completed #GOPdebate says she's on …   \n",
      "4  RT @DanScavino: #GOPDebate w/ @realDonaldTrump delivered the highest ratings in the history of presidential debates. #Trump2016 http://t.co…   \n",
      "\n",
      "  tweet_coord              tweet_created            tweet_id  tweet_location  \\\n",
      "0         NaN  2015-08-07 09:54:46 -0700  629697200650592256             NaN   \n",
      "1         NaN  2015-08-07 09:54:46 -0700  629697199560069120             NaN   \n",
      "2         NaN  2015-08-07 09:54:46 -0700  629697199312482304             NaN   \n",
      "3         NaN  2015-08-07 09:54:45 -0700  629697197118861312           Texas   \n",
      "4         NaN  2015-08-07 09:54:45 -0700  629697196967903232             NaN   \n",
      "\n",
      "                user_timezone  \n",
      "0                       Quito  \n",
      "1                         NaN  \n",
      "2                         NaN  \n",
      "3  Central Time (US & Canada)  \n",
      "4                     Arizona  \n",
      "\n",
      "[5 rows x 21 columns]\n"
     ]
    }
   ],
   "source": [
    "data = pd.read_csv(\"data/Sentiment.csv\")\n",
    "print(data.head())\n",
    "to_keep = ['text', 'sentiment']\n",
    "data = data[to_keep]"
   ]
  },
  {
   "cell_type": "code",
   "execution_count": 13,
   "id": "5e5fb915",
   "metadata": {},
   "outputs": [
    {
     "data": {
      "text/html": [
       "<div>\n",
       "<style scoped>\n",
       "    .dataframe tbody tr th:only-of-type {\n",
       "        vertical-align: middle;\n",
       "    }\n",
       "\n",
       "    .dataframe tbody tr th {\n",
       "        vertical-align: top;\n",
       "    }\n",
       "\n",
       "    .dataframe thead th {\n",
       "        text-align: right;\n",
       "    }\n",
       "</style>\n",
       "<table border=\"1\" class=\"dataframe\">\n",
       "  <thead>\n",
       "    <tr style=\"text-align: right;\">\n",
       "      <th></th>\n",
       "      <th>text</th>\n",
       "      <th>sentiment</th>\n",
       "    </tr>\n",
       "  </thead>\n",
       "  <tbody>\n",
       "    <tr>\n",
       "      <th>0</th>\n",
       "      <td>RT @NancyLeeGrahn: How did everyone feel about the Climate Change question last night? Exactly. #GOPDebate</td>\n",
       "      <td>Neutral</td>\n",
       "    </tr>\n",
       "    <tr>\n",
       "      <th>1</th>\n",
       "      <td>RT @ScottWalker: Didn't catch the full #GOPdebate last night. Here are some of Scott's best lines in 90 seconds. #Walker16 http://t.co/ZSfF…</td>\n",
       "      <td>Positive</td>\n",
       "    </tr>\n",
       "    <tr>\n",
       "      <th>2</th>\n",
       "      <td>RT @TJMShow: No mention of Tamir Rice and the #GOPDebate was held in Cleveland? Wow.</td>\n",
       "      <td>Neutral</td>\n",
       "    </tr>\n",
       "    <tr>\n",
       "      <th>3</th>\n",
       "      <td>RT @RobGeorge: That Carly Fiorina is trending -- hours after HER debate -- above any of the men in just-completed #GOPdebate says she's on …</td>\n",
       "      <td>Positive</td>\n",
       "    </tr>\n",
       "    <tr>\n",
       "      <th>4</th>\n",
       "      <td>RT @DanScavino: #GOPDebate w/ @realDonaldTrump delivered the highest ratings in the history of presidential debates. #Trump2016 http://t.co…</td>\n",
       "      <td>Positive</td>\n",
       "    </tr>\n",
       "  </tbody>\n",
       "</table>\n",
       "</div>"
      ],
      "text/plain": [
       "                                                                                                                                           text  \\\n",
       "0                                    RT @NancyLeeGrahn: How did everyone feel about the Climate Change question last night? Exactly. #GOPDebate   \n",
       "1  RT @ScottWalker: Didn't catch the full #GOPdebate last night. Here are some of Scott's best lines in 90 seconds. #Walker16 http://t.co/ZSfF…   \n",
       "2                                                          RT @TJMShow: No mention of Tamir Rice and the #GOPDebate was held in Cleveland? Wow.   \n",
       "3  RT @RobGeorge: That Carly Fiorina is trending -- hours after HER debate -- above any of the men in just-completed #GOPdebate says she's on …   \n",
       "4  RT @DanScavino: #GOPDebate w/ @realDonaldTrump delivered the highest ratings in the history of presidential debates. #Trump2016 http://t.co…   \n",
       "\n",
       "  sentiment  \n",
       "0   Neutral  \n",
       "1  Positive  \n",
       "2   Neutral  \n",
       "3  Positive  \n",
       "4  Positive  "
      ]
     },
     "execution_count": 13,
     "metadata": {},
     "output_type": "execute_result"
    }
   ],
   "source": [
    "data.head()"
   ]
  },
  {
   "cell_type": "code",
   "execution_count": 14,
   "id": "06ef1227",
   "metadata": {},
   "outputs": [
    {
     "data": {
      "text/plain": [
       "Negative    8493\n",
       "Neutral     3142\n",
       "Positive    2236\n",
       "Name: sentiment, dtype: int64"
      ]
     },
     "execution_count": 14,
     "metadata": {},
     "output_type": "execute_result"
    }
   ],
   "source": [
    "data['sentiment'].value_counts()"
   ]
  },
  {
   "cell_type": "code",
   "execution_count": 15,
   "id": "2ae1f3c6",
   "metadata": {},
   "outputs": [
    {
     "name": "stdout",
     "output_type": "stream",
     "text": [
      "                                                                                                                                           text  \\\n",
      "1  RT @ScottWalker: Didn't catch the full #GOPdebate last night. Here are some of Scott's best lines in 90 seconds. #Walker16 http://t.co/ZSfF…   \n",
      "3  RT @RobGeorge: That Carly Fiorina is trending -- hours after HER debate -- above any of the men in just-completed #GOPdebate says she's on …   \n",
      "4  RT @DanScavino: #GOPDebate w/ @realDonaldTrump delivered the highest ratings in the history of presidential debates. #Trump2016 http://t.co…   \n",
      "5       RT @GregAbbott_TX: @TedCruz: \"On my first day I will rescind every illegal executive action taken by Barack Obama.\" #GOPDebate @FoxNews   \n",
      "6  RT @warriorwoman91: I liked her and was happy when I heard she was going to be the moderator. Not anymore. #GOPDebate @megynkelly  https://…   \n",
      "\n",
      "  sentiment  \n",
      "1  Positive  \n",
      "3  Positive  \n",
      "4  Positive  \n",
      "5  Positive  \n",
      "6  Negative  \n"
     ]
    },
    {
     "data": {
      "text/plain": [
       "Negative    8493\n",
       "Positive    2236\n",
       "Name: sentiment, dtype: int64"
      ]
     },
     "execution_count": 15,
     "metadata": {},
     "output_type": "execute_result"
    }
   ],
   "source": [
    "data = data[data['sentiment'] != 'Neutral']\n",
    "print(data.head())\n",
    "data['sentiment'].value_counts()"
   ]
  },
  {
   "cell_type": "code",
   "execution_count": 16,
   "id": "142d3c79",
   "metadata": {},
   "outputs": [
    {
     "data": {
      "text/html": [
       "<div>\n",
       "<style scoped>\n",
       "    .dataframe tbody tr th:only-of-type {\n",
       "        vertical-align: middle;\n",
       "    }\n",
       "\n",
       "    .dataframe tbody tr th {\n",
       "        vertical-align: top;\n",
       "    }\n",
       "\n",
       "    .dataframe thead th {\n",
       "        text-align: right;\n",
       "    }\n",
       "</style>\n",
       "<table border=\"1\" class=\"dataframe\">\n",
       "  <thead>\n",
       "    <tr style=\"text-align: right;\">\n",
       "      <th></th>\n",
       "      <th>text</th>\n",
       "      <th>sentiment</th>\n",
       "    </tr>\n",
       "  </thead>\n",
       "  <tbody>\n",
       "    <tr>\n",
       "      <th>1</th>\n",
       "      <td>RT @ScottWalker: Didn't catch the full #GOPdebate last night. Here are some of Scott's best lines in 90 seconds. #Walker16 http://t.co/ZSfF…</td>\n",
       "      <td>Positive</td>\n",
       "    </tr>\n",
       "    <tr>\n",
       "      <th>3</th>\n",
       "      <td>RT @RobGeorge: That Carly Fiorina is trending -- hours after HER debate -- above any of the men in just-completed #GOPdebate says she's on …</td>\n",
       "      <td>Positive</td>\n",
       "    </tr>\n",
       "    <tr>\n",
       "      <th>4</th>\n",
       "      <td>RT @DanScavino: #GOPDebate w/ @realDonaldTrump delivered the highest ratings in the history of presidential debates. #Trump2016 http://t.co…</td>\n",
       "      <td>Positive</td>\n",
       "    </tr>\n",
       "    <tr>\n",
       "      <th>5</th>\n",
       "      <td>RT @GregAbbott_TX: @TedCruz: \"On my first day I will rescind every illegal executive action taken by Barack Obama.\" #GOPDebate @FoxNews</td>\n",
       "      <td>Positive</td>\n",
       "    </tr>\n",
       "    <tr>\n",
       "      <th>6</th>\n",
       "      <td>RT @warriorwoman91: I liked her and was happy when I heard she was going to be the moderator. Not anymore. #GOPDebate @megynkelly  https://…</td>\n",
       "      <td>Negative</td>\n",
       "    </tr>\n",
       "  </tbody>\n",
       "</table>\n",
       "</div>"
      ],
      "text/plain": [
       "                                                                                                                                           text  \\\n",
       "1  RT @ScottWalker: Didn't catch the full #GOPdebate last night. Here are some of Scott's best lines in 90 seconds. #Walker16 http://t.co/ZSfF…   \n",
       "3  RT @RobGeorge: That Carly Fiorina is trending -- hours after HER debate -- above any of the men in just-completed #GOPdebate says she's on …   \n",
       "4  RT @DanScavino: #GOPDebate w/ @realDonaldTrump delivered the highest ratings in the history of presidential debates. #Trump2016 http://t.co…   \n",
       "5       RT @GregAbbott_TX: @TedCruz: \"On my first day I will rescind every illegal executive action taken by Barack Obama.\" #GOPDebate @FoxNews   \n",
       "6  RT @warriorwoman91: I liked her and was happy when I heard she was going to be the moderator. Not anymore. #GOPDebate @megynkelly  https://…   \n",
       "\n",
       "  sentiment  \n",
       "1  Positive  \n",
       "3  Positive  \n",
       "4  Positive  \n",
       "5  Positive  \n",
       "6  Negative  "
      ]
     },
     "execution_count": 16,
     "metadata": {},
     "output_type": "execute_result"
    }
   ],
   "source": [
    "data.head()"
   ]
  },
  {
   "cell_type": "code",
   "execution_count": 17,
   "id": "984153b4",
   "metadata": {},
   "outputs": [
    {
     "data": {
      "text/plain": [
       "1               rt scottwalker didnt catch the full gopdebate last night here are some of scotts best lines in 90 seconds walker16 httptcozsff\n",
       "3           rt robgeorge that carly fiorina is trending  hours after her debate  above any of the men in justcompleted gopdebate says shes on \n",
       "4             rt danscavino gopdebate w realdonaldtrump delivered the highest ratings in the history of presidential debates trump2016 httptco\n",
       "5                rt gregabbotttx tedcruz on my first day i will rescind every illegal executive action taken by barack obama gopdebate foxnews\n",
       "6           rt warriorwoman91 i liked her and was happy when i heard she was going to be the moderator not anymore gopdebate megynkelly  https\n",
       "                                                                         ...                                                                  \n",
       "13866              rt cappyyarbrough love to see men who will never be faced with a pregnancy talk about what i can do with my body  gopdebate\n",
       "13867    rt georgehenryw who thought huckabee exceeded their expectations  \\n\\ngopdebate imwithhuck gop ccot teaparty tcot\\nlaura4fairtax http\n",
       "13868                                 rt lrihendry tedcruz as president i will always tell the truth and do what i said i would do  gopdebates\n",
       "13869     rt jrehling gopdebate donald trump says that he doesnt have time for political correctness how does calling women fat pigs save him \n",
       "13870                                        rt lrihendry tedcruz headed into the presidential debates go ted \\n\\ngopdebates httptco8s67pz8a4a\n",
       "Name: text, Length: 10729, dtype: object"
      ]
     },
     "execution_count": 17,
     "metadata": {},
     "output_type": "execute_result"
    }
   ],
   "source": [
    "data['text'] = data['text'].apply(lambda x: x.lower())\n",
    "data['text'] = data['text'].apply(lambda x: re.sub(\"[^a-zA-Z0-9\\s]\", '', x))\n",
    "data['text']"
   ]
  },
  {
   "cell_type": "code",
   "execution_count": 18,
   "id": "d0cf1f01",
   "metadata": {},
   "outputs": [],
   "source": [
    "for _,row in data.iterrows():\n",
    "    text = row[0]\n",
    "    row[0] = row[0].replace('rt','')\n",
    "    temp = \"\"\n",
    "    for word in row[0].split():\n",
    "        if not word.startswith('http'):\n",
    "            temp+= word + ' '\n",
    "    row[0] = temp"
   ]
  },
  {
   "cell_type": "code",
   "execution_count": 19,
   "id": "393bd9f0",
   "metadata": {},
   "outputs": [
    {
     "data": {
      "text/html": [
       "<div>\n",
       "<style scoped>\n",
       "    .dataframe tbody tr th:only-of-type {\n",
       "        vertical-align: middle;\n",
       "    }\n",
       "\n",
       "    .dataframe tbody tr th {\n",
       "        vertical-align: top;\n",
       "    }\n",
       "\n",
       "    .dataframe thead th {\n",
       "        text-align: right;\n",
       "    }\n",
       "</style>\n",
       "<table border=\"1\" class=\"dataframe\">\n",
       "  <thead>\n",
       "    <tr style=\"text-align: right;\">\n",
       "      <th></th>\n",
       "      <th>text</th>\n",
       "      <th>sentiment</th>\n",
       "    </tr>\n",
       "  </thead>\n",
       "  <tbody>\n",
       "    <tr>\n",
       "      <th>1</th>\n",
       "      <td>scottwalker didnt catch the full gopdebate last night here are some of scotts best lines in 90 seconds walker16</td>\n",
       "      <td>Positive</td>\n",
       "    </tr>\n",
       "    <tr>\n",
       "      <th>3</th>\n",
       "      <td>robgeorge that carly fiorina is trending hours after her debate above any of the men in justcompleted gopdebate says shes on</td>\n",
       "      <td>Positive</td>\n",
       "    </tr>\n",
       "    <tr>\n",
       "      <th>4</th>\n",
       "      <td>danscavino gopdebate w realdonaldtrump delivered the highest ratings in the history of presidential debates trump2016</td>\n",
       "      <td>Positive</td>\n",
       "    </tr>\n",
       "    <tr>\n",
       "      <th>5</th>\n",
       "      <td>gregabbotttx tedcruz on my first day i will rescind every illegal executive action taken by barack obama gopdebate foxnews</td>\n",
       "      <td>Positive</td>\n",
       "    </tr>\n",
       "    <tr>\n",
       "      <th>6</th>\n",
       "      <td>warriorwoman91 i liked her and was happy when i heard she was going to be the moderator not anymore gopdebate megynkelly</td>\n",
       "      <td>Negative</td>\n",
       "    </tr>\n",
       "    <tr>\n",
       "      <th>8</th>\n",
       "      <td>deer in the headlights lizzwinstead ben carson may be the only brain surgeon who has performed a lobotomy on himself gopdebate</td>\n",
       "      <td>Negative</td>\n",
       "    </tr>\n",
       "    <tr>\n",
       "      <th>9</th>\n",
       "      <td>nancyosborne180 last nights debate proved it gopdebate batsask badassteachersa tbats</td>\n",
       "      <td>Negative</td>\n",
       "    </tr>\n",
       "    <tr>\n",
       "      <th>10</th>\n",
       "      <td>jgreendc realdonaldtrump in all fairness billclinton owns that phrasegopdebate</td>\n",
       "      <td>Negative</td>\n",
       "    </tr>\n",
       "    <tr>\n",
       "      <th>11</th>\n",
       "      <td>waynedupreeshow just woke up to tweet this out gopdebate best line of the night via govmikehuckabee</td>\n",
       "      <td>Positive</td>\n",
       "    </tr>\n",
       "    <tr>\n",
       "      <th>12</th>\n",
       "      <td>me reading my familys comments about how great the gopdebate was</td>\n",
       "      <td>Negative</td>\n",
       "    </tr>\n",
       "  </tbody>\n",
       "</table>\n",
       "</div>"
      ],
      "text/plain": [
       "                                                                                                                               text  \\\n",
       "1                  scottwalker didnt catch the full gopdebate last night here are some of scotts best lines in 90 seconds walker16    \n",
       "3     robgeorge that carly fiorina is trending hours after her debate above any of the men in justcompleted gopdebate says shes on    \n",
       "4            danscavino gopdebate w realdonaldtrump delivered the highest ratings in the history of presidential debates trump2016    \n",
       "5       gregabbotttx tedcruz on my first day i will rescind every illegal executive action taken by barack obama gopdebate foxnews    \n",
       "6         warriorwoman91 i liked her and was happy when i heard she was going to be the moderator not anymore gopdebate megynkelly    \n",
       "8   deer in the headlights lizzwinstead ben carson may be the only brain surgeon who has performed a lobotomy on himself gopdebate    \n",
       "9                                             nancyosborne180 last nights debate proved it gopdebate batsask badassteachersa tbats    \n",
       "10                                                  jgreendc realdonaldtrump in all fairness billclinton owns that phrasegopdebate    \n",
       "11                             waynedupreeshow just woke up to tweet this out gopdebate best line of the night via govmikehuckabee    \n",
       "12                                                                me reading my familys comments about how great the gopdebate was    \n",
       "\n",
       "   sentiment  \n",
       "1   Positive  \n",
       "3   Positive  \n",
       "4   Positive  \n",
       "5   Positive  \n",
       "6   Negative  \n",
       "8   Negative  \n",
       "9   Negative  \n",
       "10  Negative  \n",
       "11  Positive  \n",
       "12  Negative  "
      ]
     },
     "execution_count": 19,
     "metadata": {},
     "output_type": "execute_result"
    }
   ],
   "source": [
    "data.head(10)"
   ]
  },
  {
   "cell_type": "code",
   "execution_count": 33,
   "id": "929b6d35",
   "metadata": {},
   "outputs": [],
   "source": [
    "data.to_csv('data/cleaned_text.csv')"
   ]
  },
  {
   "cell_type": "code",
   "execution_count": 20,
   "id": "a2534146",
   "metadata": {},
   "outputs": [],
   "source": [
    "max_features = 2000\n",
    "tokenizer = Tokenizer(num_words=max_features)\n",
    "tokenizer.fit_on_texts(data['text'].values)\n",
    "X = tokenizer.texts_to_sequences(data['text'].values)\n",
    "X = pad_sequences(X)"
   ]
  },
  {
   "cell_type": "code",
   "execution_count": 40,
   "id": "13344c69",
   "metadata": {},
   "outputs": [],
   "source": [
    "tok_json = tokenizer.to_json()\n",
    "with open('tokenizer.pickle', 'wb') as handle:\n",
    "    pickle.dump(tok_json, handle, protocol=pickle.HIGHEST_PROTOCOL)"
   ]
  },
  {
   "cell_type": "code",
   "execution_count": 21,
   "id": "ad84aa66",
   "metadata": {},
   "outputs": [
    {
     "name": "stdout",
     "output_type": "stream",
     "text": [
      "Model: \"sequential\"\n",
      "_________________________________________________________________\n",
      "Layer (type)                 Output Shape              Param #   \n",
      "=================================================================\n",
      "embedding (Embedding)        (None, 28, 128)           256000    \n",
      "_________________________________________________________________\n",
      "spatial_dropout1d (SpatialDr (None, 28, 128)           0         \n",
      "_________________________________________________________________\n",
      "lstm (LSTM)                  (None, 196)               254800    \n",
      "_________________________________________________________________\n",
      "dense (Dense)                (None, 2)                 394       \n",
      "=================================================================\n",
      "Total params: 511,194\n",
      "Trainable params: 511,194\n",
      "Non-trainable params: 0\n",
      "_________________________________________________________________\n",
      "None\n"
     ]
    }
   ],
   "source": [
    "embed_dim = 128\n",
    "lstm_out = 196\n",
    "\n",
    "model = Sequential()\n",
    "model.add(Embedding(max_features, embed_dim,input_length = X.shape[1]))\n",
    "model.add(SpatialDropout1D(0.4))\n",
    "model.add(LSTM(lstm_out, dropout=0.2, recurrent_dropout=0.2))\n",
    "model.add(Dense(2,activation='softmax'))\n",
    "model.compile(loss = 'categorical_crossentropy', optimizer='adam',metrics = ['accuracy'])\n",
    "print(model.summary())"
   ]
  },
  {
   "cell_type": "code",
   "execution_count": 22,
   "id": "02d6a319",
   "metadata": {},
   "outputs": [
    {
     "name": "stdout",
     "output_type": "stream",
     "text": [
      "(7188, 28) (7188, 2)\n",
      "(3541, 28) (3541, 2)\n"
     ]
    }
   ],
   "source": [
    "Y = pd.get_dummies(data['sentiment']).values\n",
    "X_train, X_test, Y_train, Y_test = train_test_split(X,Y, test_size = 0.33, random_state = 42)\n",
    "print(X_train.shape,Y_train.shape)\n",
    "print(X_test.shape,Y_test.shape)"
   ]
  },
  {
   "cell_type": "code",
   "execution_count": 23,
   "id": "5a06c8de",
   "metadata": {},
   "outputs": [
    {
     "name": "stderr",
     "output_type": "stream",
     "text": [
      "2022-12-15 13:56:39.777026: I tensorflow/compiler/mlir/mlir_graph_optimization_pass.cc:185] None of the MLIR Optimization Passes are enabled (registered 2)\n"
     ]
    },
    {
     "name": "stdout",
     "output_type": "stream",
     "text": [
      "Epoch 1/9\n",
      "267/267 - 36s - loss: 0.4313 - accuracy: 0.8191\n",
      "Epoch 2/9\n",
      "267/267 - 34s - loss: 0.3194 - accuracy: 0.8649\n",
      "Epoch 3/9\n",
      "267/267 - 32s - loss: 0.2772 - accuracy: 0.8851\n",
      "Epoch 4/9\n",
      "267/267 - 32s - loss: 0.2434 - accuracy: 0.9011\n",
      "Epoch 5/9\n",
      "267/267 - 33s - loss: 0.2221 - accuracy: 0.9101\n",
      "Epoch 6/9\n",
      "267/267 - 33s - loss: 0.1934 - accuracy: 0.9215\n",
      "Epoch 7/9\n",
      "267/267 - 33s - loss: 0.1710 - accuracy: 0.9342\n",
      "Epoch 8/9\n",
      "267/267 - 33s - loss: 0.1535 - accuracy: 0.9377\n",
      "Epoch 9/9\n",
      "267/267 - 33s - loss: 0.1433 - accuracy: 0.9416\n"
     ]
    },
    {
     "data": {
      "text/plain": [
       "<keras.callbacks.History at 0x148654370>"
      ]
     },
     "execution_count": 23,
     "metadata": {},
     "output_type": "execute_result"
    }
   ],
   "source": [
    "batch_size = 27\n",
    "model.fit(X_train, Y_train, epochs = 9, batch_size=batch_size, verbose = 2)"
   ]
  },
  {
   "cell_type": "code",
   "execution_count": 24,
   "id": "c7dfaedd",
   "metadata": {},
   "outputs": [
    {
     "name": "stdout",
     "output_type": "stream",
     "text": [
      "76/76 - 2s - loss: 0.5890 - accuracy: 0.8413\n",
      "score: 0.59\n",
      "acc: 0.84\n"
     ]
    }
   ],
   "source": [
    "validation_size = 1500\n",
    "\n",
    "X_validate = X_test[-validation_size:]\n",
    "Y_validate = Y_test[-validation_size:]\n",
    "X_test = X_test[:-validation_size]\n",
    "Y_test = Y_test[:-validation_size]\n",
    "score,acc = model.evaluate(X_test, Y_test, verbose = 2, batch_size = batch_size)\n",
    "print(\"score: %.2f\" % (score))\n",
    "print(\"acc: %.2f\" % (acc))"
   ]
  },
  {
   "cell_type": "code",
   "execution_count": 25,
   "id": "0acda05d",
   "metadata": {
    "scrolled": false
   },
   "outputs": [
    {
     "name": "stdout",
     "output_type": "stream",
     "text": [
      "pos_acc 59.8705501618123 %\n",
      "neg_acc 91.68765743073047 %\n"
     ]
    }
   ],
   "source": [
    "pos_cnt, neg_cnt, pos_correct, neg_correct = 0, 0, 0, 0\n",
    "for x in range(validation_size):\n",
    "    result = model.predict(X_validate[x].reshape(1,X_test.shape[1]),batch_size=1,verbose = 2)[0]\n",
    "    clear_output(wait = True)\n",
    "   \n",
    "    if np.argmax(result) == np.argmax(Y_validate[x]):\n",
    "        if np.argmax(Y_validate[x]) == 0:\n",
    "            neg_correct += 1\n",
    "        else:\n",
    "            pos_correct += 1\n",
    "       \n",
    "    if np.argmax(Y_validate[x]) == 0:\n",
    "        neg_cnt += 1\n",
    "    else:\n",
    "        pos_cnt += 1\n",
    "\n",
    "\n",
    "\n",
    "print(\"pos_acc\", pos_correct/pos_cnt*100, \"%\")\n",
    "print(\"neg_acc\", neg_correct/neg_cnt*100, \"%\")"
   ]
  },
  {
   "cell_type": "code",
   "execution_count": 26,
   "id": "d14d2b9c",
   "metadata": {},
   "outputs": [
    {
     "name": "stderr",
     "output_type": "stream",
     "text": [
      "2022-12-15 14:05:45.300662: W tensorflow/python/util/util.cc:348] Sets are not currently considered sequences, but this may change in the future, so consider avoiding using them.\n"
     ]
    },
    {
     "name": "stdout",
     "output_type": "stream",
     "text": [
      "INFO:tensorflow:Assets written to: model/assets\n"
     ]
    }
   ],
   "source": [
    "model.save(\"model\")"
   ]
  }
 ],
 "metadata": {
  "kernelspec": {
   "display_name": "Python 3 (ipykernel)",
   "language": "python",
   "name": "python3"
  },
  "language_info": {
   "codemirror_mode": {
    "name": "ipython",
    "version": 3
   },
   "file_extension": ".py",
   "mimetype": "text/x-python",
   "name": "python",
   "nbconvert_exporter": "python",
   "pygments_lexer": "ipython3",
   "version": "3.9.12"
  }
 },
 "nbformat": 4,
 "nbformat_minor": 5
}
